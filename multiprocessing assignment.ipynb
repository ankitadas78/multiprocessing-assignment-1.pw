{
 "cells": [
  {
   "cell_type": "markdown",
   "id": "16120774-355a-4514-a952-6d3b7f8635c9",
   "metadata": {},
   "source": [
    "ques1_what is multiprocessing in python? why is it useful?"
   ]
  },
  {
   "cell_type": "markdown",
   "id": "d0bcd018-25c6-491c-b3bb-fcdcb5800e7d",
   "metadata": {},
   "source": [
    "ans_multiprocessing is python programming language which is refers to the ability of a system to support more than one processor at the same time.Applications in a multiproessing system are broken to smaller routines that run independently.The operating system allocates these threads to the processors improving performance of the system.\n",
    "\n",
    "multiprocessing in python is a built in package that allows the system to run multiple processes simultaneously,it will enable the breaking of applications into smaller threads that can run independently and it is typically carried out by two or more microprocessors,each of which is effet a CPU on a sungle tiny chip."
   ]
  },
  {
   "cell_type": "markdown",
   "id": "4b9092e0-d758-41e6-9c01-0d09e7b16040",
   "metadata": {},
   "source": [
    "ques2_what are the difference between multiprocessing and multithreading?"
   ]
  },
  {
   "cell_type": "markdown",
   "id": "b9394f9c-04c4-4d98-aac1-7ab8c473628a",
   "metadata": {},
   "source": [
    "ans_ multithreading is a technique where multiple threads are spawned by a process to do different tasks,at about the same time , just one after the other.This gives you the illusion that the threads are running in parallel,but they are actually run in a concurrent manner.In python,Global interpreter lock prevents the threads from running simultaneously.\n",
    "\n",
    "whereas , multiprocessing is a technique where parallelism in its truest from is acheived.Multi process are run across multiple CPU cores,which do not share the resources among them.Each process can have many threads running in its own memory space.In python ,each process has its own instance of python interpreter doing the job of executing the instructions."
   ]
  },
  {
   "cell_type": "markdown",
   "id": "86b916e0-ebe6-465b-8a14-06114e7f81ce",
   "metadata": {},
   "source": [
    "ques3_write a python code to create a process using the multiprocessing moduel."
   ]
  },
  {
   "cell_type": "code",
   "execution_count": 1,
   "id": "dcbf8c1f-dd43-46c5-a070-9139e3744691",
   "metadata": {},
   "outputs": [
    {
     "name": "stdout",
     "output_type": "stream",
     "text": [
      "i purchased this course from may 2023 and the course duration is 9 months , so end on february 2023\n",
      "this is my data science masters course from pwskills\n"
     ]
    }
   ],
   "source": [
    "import multiprocessing\n",
    "def course():\n",
    "    print(\"this is my data science masters course from pwskills\")\n",
    "    \n",
    "if __name__ == '__main__':\n",
    "    m = multiprocessing.Process(target=course)\n",
    "    print(\"i purchased this course from may 2023 and the course duration is 9 months , so end on february 2023\")\n",
    "    m.start()\n",
    "    m.join()"
   ]
  },
  {
   "cell_type": "markdown",
   "id": "ec03e402-36f0-4913-8679-773f08425f9f",
   "metadata": {},
   "source": [
    "ques4_what is multiprocessing pool in python?why is it used?"
   ]
  },
  {
   "cell_type": "markdown",
   "id": "3e4fd297-e8e8-41a9-ad98-2437463b2e36",
   "metadata": {},
   "source": [
    "ans_The python multiprocessing pool class allows to create and manage process pools in python.Although it has been available in python for a long time,it is not widely used perhaps beacuse of misunderstandings of the capabilities and limitations of process and threads in python\n",
    "\n",
    "python multiprocessing pool can be used for parallel execution of a function across multiple input values,distributing the input data across processes."
   ]
  },
  {
   "cell_type": "markdown",
   "id": "460a4ae3-c0d5-4f10-942b-08995bb3e526",
   "metadata": {},
   "source": [
    "ques5_how can we create a pool of worker processed in python using the multiprocessing module?"
   ]
  },
  {
   "cell_type": "code",
   "execution_count": 3,
   "id": "d6cc2f22-08c7-4b98-8b9f-fe9af736676f",
   "metadata": {},
   "outputs": [
    {
     "name": "stdout",
     "output_type": "stream",
     "text": [
      "[25, 100, 225, 400, 625]\n"
     ]
    }
   ],
   "source": [
    "def square(n):\n",
    "    return n**2\n",
    "\n",
    "if __name__ == '__main__':\n",
    "    with multiprocessing.Pool(processes=5) as pool:\n",
    "        output = pool.map(square ,[5,10,15,20,25])\n",
    "        print(output)"
   ]
  },
  {
   "cell_type": "code",
   "execution_count": 4,
   "id": "c70a2896-f26d-47b6-ad72-7a698dd7436e",
   "metadata": {},
   "outputs": [
    {
     "name": "stdout",
     "output_type": "stream",
     "text": [
      "[1000, 8000, 27000, 64000, 125000, 216000, 343000]\n"
     ]
    }
   ],
   "source": [
    "def cube(n):\n",
    "    return n**3\n",
    "\n",
    "if __name__ == '__main__':\n",
    "    with multiprocessing.Pool(processes=7) as pool:\n",
    "        output = pool.map(cube,[10,20,30,40,50,60,70])\n",
    "        print(output)"
   ]
  },
  {
   "cell_type": "markdown",
   "id": "e6f47ec8-13da-45ee-ab44-29bad986ad59",
   "metadata": {},
   "source": [
    "ques6_write a python programe to create 4 processes , each process should print a different number using the multiprocessing module in python."
   ]
  },
  {
   "cell_type": "code",
   "execution_count": 5,
   "id": "fa34c7f4-0325-4b07-9764-1c479a57dbfb",
   "metadata": {},
   "outputs": [
    {
     "name": "stdout",
     "output_type": "stream",
     "text": [
      "id number of worker1 is 101\n",
      "id number of woreker2 is 102\n",
      "id number of worker3 is 103\n",
      "id number of worker4 is 104\n",
      "id of process running worker1\n",
      "id of process running worker2\n",
      "id of process running worker3\n",
      "id of process running worker4\n"
     ]
    }
   ],
   "source": [
    "import multiprocessing\n",
    "def worker1():\n",
    "    print(\"id of process running worker1\")\n",
    "def worker2():\n",
    "    print(\"id of process running worker2\")\n",
    "def worker3():\n",
    "    print(\"id of process running worker3\")\n",
    "def worker4():\n",
    "    print(\"id of process running worker4\")\n",
    "    \n",
    "if __name__ == '__main__':\n",
    "    m1 = multiprocessing.Process(target=worker1)\n",
    "    print(\"id number of worker1 is 101\")\n",
    "    m2 = multiprocessing.Process(target=worker2)\n",
    "    print(\"id number of woreker2 is 102\")\n",
    "    m3 = multiprocessing.Process(target=worker3)\n",
    "    print(\"id number of worker3 is 103\")\n",
    "    m4 = multiprocessing.Process(target=worker4)\n",
    "    print(\"id number of worker4 is 104\")\n",
    "    m1.start()\n",
    "    m2.start()\n",
    "    m3.start()\n",
    "    m4.start()\n",
    "    m1.join()\n",
    "    m2.join()\n",
    "    m3.join()\n",
    "    m4.join()"
   ]
  },
  {
   "cell_type": "code",
   "execution_count": null,
   "id": "b984279d-5a91-4c21-b92e-de47bcaa5392",
   "metadata": {},
   "outputs": [],
   "source": []
  }
 ],
 "metadata": {
  "kernelspec": {
   "display_name": "Python 3 (ipykernel)",
   "language": "python",
   "name": "python3"
  },
  "language_info": {
   "codemirror_mode": {
    "name": "ipython",
    "version": 3
   },
   "file_extension": ".py",
   "mimetype": "text/x-python",
   "name": "python",
   "nbconvert_exporter": "python",
   "pygments_lexer": "ipython3",
   "version": "3.10.8"
  }
 },
 "nbformat": 4,
 "nbformat_minor": 5
}
